{
 "cells": [
  {
   "cell_type": "code",
   "execution_count": 1,
   "id": "1f1f2386",
   "metadata": {},
   "outputs": [],
   "source": [
    "import numpy as np\n",
    "import pandas as pd\n",
    "import matplotlib.pyplot as plt\n",
    "\n",
    "# For preprocessing\n",
    "from sklearn.preprocessing import StandardScaler, LabelEncoder, OneHotEncoder\n",
    "from sklearn_pandas import DataFrameMapper \n",
    "\n",
    "import torch # For building the networks \n",
    "import torchtuples as tt # Some useful functions\n",
    "\n",
    "from pycox.datasets import metabric\n",
    "from pycox.models import MTLR\n",
    "from pycox.evaluation import EvalSurv"
   ]
  },
  {
   "cell_type": "code",
   "execution_count": 2,
   "id": "cd1d60a9",
   "metadata": {},
   "outputs": [],
   "source": [
    "np.random.seed(1234)\n",
    "_ = torch.manual_seed(123)"
   ]
  },
  {
   "cell_type": "code",
   "execution_count": 3,
   "id": "89912cdb",
   "metadata": {},
   "outputs": [],
   "source": [
    "# Dataset\n",
    "\n",
    "path = \"E:/Research/Ovarian Cancer/Articles/Orginal/\"\n",
    "data = pd.read_excel(path+\"data_ready.xlsx\")\n",
    "\n",
    "df_train = data\n",
    "df_test = df_train.sample(frac=0.2)\n",
    "df_train = df_train.drop(df_test.index)\n",
    "df_val = df_train.sample(frac=0.2)\n",
    "df_train = df_train.drop(df_val.index)"
   ]
  },
  {
   "cell_type": "code",
   "execution_count": 4,
   "id": "e6b34004",
   "metadata": {},
   "outputs": [
    {
     "data": {
      "text/plain": [
       "1     474\n",
       "6     427\n",
       "7     383\n",
       "9     259\n",
       "2     249\n",
       "8     245\n",
       "3     217\n",
       "4     166\n",
       "10    132\n",
       "5     123\n",
       "Name: YearSurvive, dtype: int64"
      ]
     },
     "execution_count": 4,
     "metadata": {},
     "output_type": "execute_result"
    }
   ],
   "source": [
    "data['YearSurvive'].value_counts()"
   ]
  },
  {
   "cell_type": "code",
   "execution_count": 5,
   "id": "d5ccd342",
   "metadata": {},
   "outputs": [],
   "source": [
    "# Feature transformers\n",
    "\n",
    "cols_standardize = ['Age']\n",
    "cols_onehotencoded = ['Grading', 'Histology', 'Type']\n",
    "\n",
    "standardize = [([col], StandardScaler()) for col in cols_standardize]\n",
    "onehot_encoded = [([col], OneHotEncoder(handle_unknown='ignore')) for col in cols_onehotencoded]\n",
    "\n",
    "#encoded = [([col], LabelEncoder()) for col in cols_labelencoded]\n",
    "#leave = [(col, None) for col in cols_leave]\n",
    "\n",
    "x_mapper = DataFrameMapper(standardize + onehot_encoded)"
   ]
  },
  {
   "cell_type": "code",
   "execution_count": 6,
   "id": "c4168c71",
   "metadata": {},
   "outputs": [],
   "source": [
    "x_train = x_mapper.fit_transform(df_train).astype('float32')\n",
    "x_val = x_mapper.transform(df_val).astype('float32')\n",
    "x_test = x_mapper.transform(df_test).astype('float32')"
   ]
  },
  {
   "cell_type": "code",
   "execution_count": 7,
   "id": "a293ed2c",
   "metadata": {},
   "outputs": [],
   "source": [
    "# label transforms\n",
    "\n",
    "num_durations = 10\n",
    "labtrans = MTLR.label_transform(num_durations)\n",
    "get_target = lambda df: (df['YearSurvive'].values, df['Status'].values)\n",
    "y_train = labtrans.fit_transform(*get_target(df_train))\n",
    "y_val = labtrans.transform(*get_target(df_val))\n",
    "\n",
    "train = (x_train, y_train)\n",
    "val = (x_val, y_val)\n",
    "\n",
    "# We don't need to transform the test labels\n",
    "durations_test, events_test = get_target(df_test)"
   ]
  },
  {
   "cell_type": "code",
   "execution_count": 8,
   "id": "19beef99",
   "metadata": {},
   "outputs": [
    {
     "data": {
      "text/plain": [
       "pycox.preprocessing.label_transforms.LabTransDiscreteTime"
      ]
     },
     "execution_count": 8,
     "metadata": {},
     "output_type": "execute_result"
    }
   ],
   "source": [
    "type(labtrans)\n"
   ]
  },
  {
   "cell_type": "code",
   "execution_count": 9,
   "id": "abceaeba",
   "metadata": {},
   "outputs": [],
   "source": [
    "# Neural Net\n",
    "\n",
    "in_features = x_train.shape[1]\n",
    "num_nodes = [32, 32]\n",
    "out_features = labtrans.out_features\n",
    "batch_norm = True\n",
    "dropout = 0.1\n",
    "\n",
    "net = tt.practical.MLPVanilla(in_features, num_nodes, out_features, batch_norm, dropout)"
   ]
  },
  {
   "cell_type": "code",
   "execution_count": 10,
   "id": "865235cf",
   "metadata": {},
   "outputs": [],
   "source": [
    "# model\n",
    "\n",
    "model = MTLR(net, tt.optim.Adam, duration_index=labtrans.cuts)"
   ]
  },
  {
   "cell_type": "code",
   "execution_count": 11,
   "id": "e24769d4",
   "metadata": {},
   "outputs": [
    {
     "data": {
      "image/png": "[encoded data removed]",
      "text/plain": [
       "<Figure size 432x288 with 1 Axes>"
      ]
     },
     "metadata": {
      "needs_background": "light"
     },
     "output_type": "display_data"
    }
   ],
   "source": [
    "batch_size = 256\n",
    "lr_finder = model.lr_finder(x_train, y_train, batch_size, tolerance=6)\n",
    "_ = lr_finder.plot()"
   ]
  },
  {
   "cell_type": "code",
   "execution_count": 12,
   "id": "8b391562",
   "metadata": {},
   "outputs": [
    {
     "data": {
      "text/plain": [
       "0.029150530628251937"
      ]
     },
     "execution_count": 12,
     "metadata": {},
     "output_type": "execute_result"
    }
   ],
   "source": [
    "lr_finder.get_best_lr()"
   ]
  },
  {
   "cell_type": "code",
   "execution_count": 13,
   "id": "e79d243f",
   "metadata": {},
   "outputs": [],
   "source": [
    "model.optimizer.set_lr(0.01)"
   ]
  },
  {
   "cell_type": "code",
   "execution_count": 14,
   "id": "7c613cca",
   "metadata": {},
   "outputs": [
    {
     "name": "stdout",
     "output_type": "stream",
     "text": [
      "0:\t[0s / 0s],\t\ttrain_loss: 1.8333,\tval_loss: 1.7838\n",
      "1:\t[0s / 0s],\t\ttrain_loss: 1.6630,\tval_loss: 1.6961\n",
      "2:\t[0s / 0s],\t\ttrain_loss: 1.6107,\tval_loss: 1.6718\n",
      "3:\t[0s / 0s],\t\ttrain_loss: 1.5773,\tval_loss: 1.6226\n",
      "4:\t[0s / 0s],\t\ttrain_loss: 1.5403,\tval_loss: 1.6006\n",
      "5:\t[0s / 0s],\t\ttrain_loss: 1.5236,\tval_loss: 1.5765\n",
      "6:\t[0s / 0s],\t\ttrain_loss: 1.4972,\tval_loss: 1.5711\n",
      "7:\t[0s / 0s],\t\ttrain_loss: 1.4801,\tval_loss: 1.5578\n",
      "8:\t[0s / 0s],\t\ttrain_loss: 1.4797,\tval_loss: 1.5605\n",
      "9:\t[0s / 0s],\t\ttrain_loss: 1.4571,\tval_loss: 1.5500\n",
      "10:\t[0s / 0s],\t\ttrain_loss: 1.4643,\tval_loss: 1.5568\n",
      "11:\t[0s / 0s],\t\ttrain_loss: 1.4569,\tval_loss: 1.5407\n",
      "12:\t[0s / 0s],\t\ttrain_loss: 1.4548,\tval_loss: 1.5497\n",
      "13:\t[0s / 0s],\t\ttrain_loss: 1.4390,\tval_loss: 1.5503\n",
      "14:\t[0s / 0s],\t\ttrain_loss: 1.4350,\tval_loss: 1.5440\n",
      "15:\t[0s / 0s],\t\ttrain_loss: 1.4396,\tval_loss: 1.5450\n",
      "16:\t[0s / 0s],\t\ttrain_loss: 1.4402,\tval_loss: 1.5364\n",
      "17:\t[0s / 0s],\t\ttrain_loss: 1.4414,\tval_loss: 1.5274\n",
      "18:\t[0s / 0s],\t\ttrain_loss: 1.4354,\tval_loss: 1.5497\n",
      "19:\t[0s / 0s],\t\ttrain_loss: 1.4297,\tval_loss: 1.5374\n",
      "20:\t[0s / 1s],\t\ttrain_loss: 1.4278,\tval_loss: 1.5456\n",
      "21:\t[0s / 1s],\t\ttrain_loss: 1.4364,\tval_loss: 1.5382\n",
      "22:\t[0s / 1s],\t\ttrain_loss: 1.4384,\tval_loss: 1.5523\n",
      "23:\t[0s / 1s],\t\ttrain_loss: 1.4332,\tval_loss: 1.5511\n",
      "24:\t[0s / 1s],\t\ttrain_loss: 1.4273,\tval_loss: 1.5630\n",
      "25:\t[0s / 1s],\t\ttrain_loss: 1.4193,\tval_loss: 1.5470\n",
      "26:\t[0s / 1s],\t\ttrain_loss: 1.4190,\tval_loss: 1.5547\n",
      "27:\t[0s / 1s],\t\ttrain_loss: 1.4149,\tval_loss: 1.5337\n"
     ]
    }
   ],
   "source": [
    "epochs = 100\n",
    "callbacks = [tt.callbacks.EarlyStopping()]\n",
    "log = model.fit(x_train, y_train, batch_size, epochs, callbacks, val_data=val)"
   ]
  },
  {
   "cell_type": "code",
   "execution_count": 15,
   "id": "49bd8eda",
   "metadata": {},
   "outputs": [
    {
     "data": {
      "image/png": "[encoded data removed]",
      "text/plain": [
       "<Figure size 432x288 with 1 Axes>"
      ]
     },
     "metadata": {
      "needs_background": "light"
     },
     "output_type": "display_data"
    }
   ],
   "source": [
    "_ = log.plot()"
   ]
  },
  {
   "cell_type": "code",
   "execution_count": 16,
   "id": "39d90e95",
   "metadata": {},
   "outputs": [],
   "source": [
    "surv = model.predict_surv_df(x_test)"
   ]
  },
  {
   "cell_type": "code",
   "execution_count": 17,
   "id": "41e620eb",
   "metadata": {},
   "outputs": [
    {
     "data": {
      "image/png": "[encoded data removed]",
      "text/plain": [
       "<Figure size 432x288 with 1 Axes>"
      ]
     },
     "metadata": {
      "needs_background": "light"
     },
     "output_type": "display_data"
    }
   ],
   "source": [
    "surv.iloc[:, :5].plot(drawstyle='steps-post')\n",
    "plt.ylabel('S(t | x)')\n",
    "_ = plt.xlabel('Time')"
   ]
  },
  {
   "cell_type": "code",
   "execution_count": 18,
   "id": "ffb6e1ad",
   "metadata": {},
   "outputs": [],
   "source": [
    "surv = model.interpolate(10).predict_surv_df(x_test)"
   ]
  },
  {
   "cell_type": "code",
   "execution_count": 19,
   "id": "be6e62a5",
   "metadata": {},
   "outputs": [
    {
     "data": {
      "image/png": "[encoded data removed]",
      "text/plain": [
       "<Figure size 432x288 with 1 Axes>"
      ]
     },
     "metadata": {
      "needs_background": "light"
     },
     "output_type": "display_data"
    }
   ],
   "source": [
    "surv.iloc[:, :5].plot(drawstyle='steps-post')\n",
    "plt.ylabel('S(t | x)')\n",
    "_ = plt.xlabel('Time')"
   ]
  },
  {
   "cell_type": "code",
   "execution_count": 20,
   "id": "8ffcf50a",
   "metadata": {},
   "outputs": [],
   "source": [
    "# Evaluation\n",
    "\n",
    "ev = EvalSurv(surv, durations_test, events_test, censor_surv='km')"
   ]
  },
  {
   "cell_type": "code",
   "execution_count": 21,
   "id": "f8c6cd5a",
   "metadata": {},
   "outputs": [
    {
     "data": {
      "text/plain": [
       "0.6761258666242873"
      ]
     },
     "execution_count": 21,
     "metadata": {},
     "output_type": "execute_result"
    }
   ],
   "source": [
    "ev.concordance_td('antolini')"
   ]
  },
  {
   "cell_type": "code",
   "execution_count": 22,
   "id": "e35ad589",
   "metadata": {},
   "outputs": [
    {
     "data": {
      "image/png": "[encoded data removed]",
      "text/plain": [
       "<Figure size 432x288 with 1 Axes>"
      ]
     },
     "metadata": {
      "needs_background": "light"
     },
     "output_type": "display_data"
    }
   ],
   "source": [
    "time_grid = np.linspace(durations_test.min(), durations_test.max(), 100)\n",
    "ev.brier_score(time_grid).plot()\n",
    "plt.ylabel('Brier score')\n",
    "_ = plt.xlabel('Time')"
   ]
  },
  {
   "cell_type": "code",
   "execution_count": 23,
   "id": "73b2fd09",
   "metadata": {},
   "outputs": [
    {
     "data": {
      "image/png": "[encoded data removed]",
      "text/plain": [
       "<Figure size 432x288 with 1 Axes>"
      ]
     },
     "metadata": {
      "needs_background": "light"
     },
     "output_type": "display_data"
    }
   ],
   "source": [
    "ev.nbll(time_grid).plot()\n",
    "plt.ylabel('NBLL')\n",
    "_ = plt.xlabel('Time')"
   ]
  },
  {
   "cell_type": "code",
   "execution_count": 24,
   "id": "46e1d74e",
   "metadata": {},
   "outputs": [
    {
     "data": {
      "text/plain": [
       "0.24480555737564247"
      ]
     },
     "execution_count": 24,
     "metadata": {},
     "output_type": "execute_result"
    }
   ],
   "source": [
    "ev.integrated_brier_score(time_grid) "
   ]
  },
  {
   "cell_type": "code",
   "execution_count": 25,
   "id": "9cf26b44",
   "metadata": {},
   "outputs": [
    {
     "data": {
      "text/plain": [
       "0.6859983137699385"
      ]
     },
     "execution_count": 25,
     "metadata": {},
     "output_type": "execute_result"
    }
   ],
   "source": [
    "ev.integrated_nbll(time_grid) "
   ]
  },
  {
   "cell_type": "code",
   "execution_count": null,
   "id": "d228c9bc",
   "metadata": {},
   "outputs": [],
   "source": []
  }
 ],
 "metadata": {
  "kernelspec": {
   "display_name": "Python 3 (ipykernel)",
   "language": "python",
   "name": "python3"
  },
  "language_info": {
   "codemirror_mode": {
    "name": "ipython",
    "version": 3
   },
   "file_extension": ".py",
   "mimetype": "text/x-python",
   "name": "python",
   "nbconvert_exporter": "python",
   "pygments_lexer": "ipython3",
   "version": "3.9.7"
  }
 },
 "nbformat": 4,
 "nbformat_minor": 5
}
