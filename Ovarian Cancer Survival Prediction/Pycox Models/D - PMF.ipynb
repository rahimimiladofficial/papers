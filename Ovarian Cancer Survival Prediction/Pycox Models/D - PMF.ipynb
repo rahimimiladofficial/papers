{
 "cells": [
  {
   "cell_type": "code",
   "execution_count": 1,
   "id": "4d2e8b38",
   "metadata": {},
   "outputs": [],
   "source": [
    "import numpy as np\n",
    "import pandas as pd\n",
    "import matplotlib.pyplot as plt\n",
    "\n",
    "# For preprocessing\n",
    "from sklearn.preprocessing import StandardScaler, LabelEncoder, OneHotEncoder\n",
    "from sklearn_pandas import DataFrameMapper \n",
    "\n",
    "import torch # For building the networks \n",
    "import torchtuples as tt # Some useful functions\n",
    "\n",
    "from pycox.datasets import metabric\n",
    "from pycox.models import PMF\n",
    "from pycox.evaluation import EvalSurv"
   ]
  },
  {
   "cell_type": "code",
   "execution_count": 2,
   "id": "8c87f6a1",
   "metadata": {},
   "outputs": [],
   "source": [
    "np.random.seed(1234)\n",
    "_ = torch.manual_seed(123)"
   ]
  },
  {
   "cell_type": "code",
   "execution_count": 3,
   "id": "bf15a502",
   "metadata": {},
   "outputs": [],
   "source": [
    "# Dataset\n",
    "\n",
    "path = \"E:/Research/Ovarian Cancer/Articles/Orginal/\"\n",
    "data = pd.read_excel(path+\"data_ready.xlsx\")\n",
    "\n",
    "df_train = data\n",
    "df_test = df_train.sample(frac=0.2)\n",
    "df_train = df_train.drop(df_test.index)\n",
    "df_val = df_train.sample(frac=0.2)\n",
    "df_train = df_train.drop(df_val.index)"
   ]
  },
  {
   "cell_type": "code",
   "execution_count": 4,
   "id": "596a4829",
   "metadata": {},
   "outputs": [
    {
     "data": {
      "text/html": [
       "<div>\n",
       "<style scoped>\n",
       "    .dataframe tbody tr th:only-of-type {\n",
       "        vertical-align: middle;\n",
       "    }\n",
       "\n",
       "    .dataframe tbody tr th {\n",
       "        vertical-align: top;\n",
       "    }\n",
       "\n",
       "    .dataframe thead th {\n",
       "        text-align: right;\n",
       "    }\n",
       "</style>\n",
       "<table border=\"1\" class=\"dataframe\">\n",
       "  <thead>\n",
       "    <tr style=\"text-align: right;\">\n",
       "      <th></th>\n",
       "      <th>Age</th>\n",
       "      <th>Grading</th>\n",
       "      <th>Histology</th>\n",
       "      <th>Type</th>\n",
       "      <th>Status</th>\n",
       "      <th>MonthSurvive</th>\n",
       "      <th>YearSurvive</th>\n",
       "    </tr>\n",
       "  </thead>\n",
       "  <tbody>\n",
       "    <tr>\n",
       "      <th>1</th>\n",
       "      <td>17.0</td>\n",
       "      <td>9.0</td>\n",
       "      <td>Undifferentiated</td>\n",
       "      <td>type_2</td>\n",
       "      <td>1.0</td>\n",
       "      <td>1</td>\n",
       "      <td>1</td>\n",
       "    </tr>\n",
       "    <tr>\n",
       "      <th>2</th>\n",
       "      <td>55.0</td>\n",
       "      <td>9.0</td>\n",
       "      <td>Serous carcinoma</td>\n",
       "      <td>type_2</td>\n",
       "      <td>1.0</td>\n",
       "      <td>0</td>\n",
       "      <td>1</td>\n",
       "    </tr>\n",
       "    <tr>\n",
       "      <th>3</th>\n",
       "      <td>68.0</td>\n",
       "      <td>9.0</td>\n",
       "      <td>Non-specific</td>\n",
       "      <td>Non-specific</td>\n",
       "      <td>1.0</td>\n",
       "      <td>0</td>\n",
       "      <td>1</td>\n",
       "    </tr>\n",
       "    <tr>\n",
       "      <th>4</th>\n",
       "      <td>66.0</td>\n",
       "      <td>9.0</td>\n",
       "      <td>Clear cell carcinoma</td>\n",
       "      <td>type_1</td>\n",
       "      <td>1.0</td>\n",
       "      <td>0</td>\n",
       "      <td>1</td>\n",
       "    </tr>\n",
       "    <tr>\n",
       "      <th>5</th>\n",
       "      <td>72.0</td>\n",
       "      <td>9.0</td>\n",
       "      <td>Serous carcinoma</td>\n",
       "      <td>type_2</td>\n",
       "      <td>1.0</td>\n",
       "      <td>0</td>\n",
       "      <td>1</td>\n",
       "    </tr>\n",
       "  </tbody>\n",
       "</table>\n",
       "</div>"
      ],
      "text/plain": [
       "    Age  Grading             Histology          Type  Status  MonthSurvive  \\\n",
       "1  17.0      9.0      Undifferentiated        type_2     1.0             1   \n",
       "2  55.0      9.0      Serous carcinoma        type_2     1.0             0   \n",
       "3  68.0      9.0          Non-specific  Non-specific     1.0             0   \n",
       "4  66.0      9.0  Clear cell carcinoma        type_1     1.0             0   \n",
       "5  72.0      9.0      Serous carcinoma        type_2     1.0             0   \n",
       "\n",
       "   YearSurvive  \n",
       "1            1  \n",
       "2            1  \n",
       "3            1  \n",
       "4            1  \n",
       "5            1  "
      ]
     },
     "execution_count": 4,
     "metadata": {},
     "output_type": "execute_result"
    }
   ],
   "source": [
    "df_train.head()"
   ]
  },
  {
   "cell_type": "code",
   "execution_count": 6,
   "id": "43545dc1",
   "metadata": {},
   "outputs": [],
   "source": [
    "# Feature transformers\n",
    "\n",
    "cols_standardize = ['Age']\n",
    "cols_onehotencoded = ['Grading', 'Histology', 'Type']\n",
    "\n",
    "standardize = [([col], StandardScaler()) for col in cols_standardize]\n",
    "onehot_encoded = [([col], OneHotEncoder(handle_unknown='ignore')) for col in cols_onehotencoded]\n",
    "\n",
    "#encoded = [([col], LabelEncoder()) for col in cols_labelencoded]\n",
    "#leave = [(col, None) for col in cols_leave]\n",
    "\n",
    "x_mapper = DataFrameMapper(standardize + onehot_encoded)"
   ]
  },
  {
   "cell_type": "code",
   "execution_count": 7,
   "id": "dc0c6606",
   "metadata": {},
   "outputs": [],
   "source": [
    "x_train = x_mapper.fit_transform(df_train).astype('float32')\n",
    "x_val = x_mapper.transform(df_val).astype('float32')\n",
    "x_test = x_mapper.transform(df_test).astype('float32')"
   ]
  },
  {
   "cell_type": "code",
   "execution_count": 8,
   "id": "47dd7650",
   "metadata": {},
   "outputs": [],
   "source": [
    "# label transformer\n",
    "\n",
    "num_durations = 10\n",
    "labtrans = PMF.label_transform(num_durations)\n",
    "get_target = lambda df: (df['YearSurvive'].values, df['Status'].values)\n",
    "y_train = labtrans.fit_transform(*get_target(df_train))\n",
    "y_val = labtrans.transform(*get_target(df_val))\n",
    "\n",
    "train = (x_train, y_train)\n",
    "val = (x_val, y_val)\n",
    "\n",
    "# We don't need to transform the test labels\n",
    "durations_test, events_test = get_target(df_test)"
   ]
  },
  {
   "cell_type": "code",
   "execution_count": 9,
   "id": "115e3962",
   "metadata": {},
   "outputs": [
    {
     "data": {
      "text/plain": [
       "pycox.preprocessing.label_transforms.LabTransDiscreteTime"
      ]
     },
     "execution_count": 9,
     "metadata": {},
     "output_type": "execute_result"
    }
   ],
   "source": [
    "type(labtrans)"
   ]
  },
  {
   "cell_type": "code",
   "execution_count": 10,
   "id": "29f200ed",
   "metadata": {},
   "outputs": [],
   "source": [
    "# Neural Net\n",
    "\n",
    "in_features = x_train.shape[1]\n",
    "num_nodes = [32, 32]\n",
    "out_features = labtrans.out_features\n",
    "batch_norm = True\n",
    "dropout = 0.1\n",
    "\n",
    "net = tt.practical.MLPVanilla(in_features, num_nodes, out_features, batch_norm, dropout)"
   ]
  },
  {
   "cell_type": "code",
   "execution_count": 12,
   "id": "f39f6fc3",
   "metadata": {},
   "outputs": [],
   "source": [
    "# model training\n",
    "\n",
    "model = PMF(net, tt.optim.Adam, duration_index=labtrans.cuts)"
   ]
  },
  {
   "cell_type": "code",
   "execution_count": 13,
   "id": "d3e5a75e",
   "metadata": {},
   "outputs": [
    {
     "data": {
      "image/png": "[encoded data removed]",
      "text/plain": [
       "<Figure size 432x288 with 1 Axes>"
      ]
     },
     "metadata": {
      "needs_background": "light"
     },
     "output_type": "display_data"
    }
   ],
   "source": [
    "batch_size = 256\n",
    "lr_finder = model.lr_finder(x_train, y_train, batch_size, tolerance=4)\n",
    "_ = lr_finder.plot()"
   ]
  },
  {
   "cell_type": "code",
   "execution_count": 14,
   "id": "9c86e171",
   "metadata": {},
   "outputs": [
    {
     "data": {
      "text/plain": [
       "0.04229242874389523"
      ]
     },
     "execution_count": 14,
     "metadata": {},
     "output_type": "execute_result"
    }
   ],
   "source": [
    "lr_finder.get_best_lr()"
   ]
  },
  {
   "cell_type": "code",
   "execution_count": 15,
   "id": "032bdb63",
   "metadata": {},
   "outputs": [],
   "source": [
    "model.optimizer.set_lr(0.01)"
   ]
  },
  {
   "cell_type": "code",
   "execution_count": 16,
   "id": "480b7be0",
   "metadata": {},
   "outputs": [
    {
     "name": "stdout",
     "output_type": "stream",
     "text": [
      "0:\t[0s / 0s],\t\ttrain_loss: 1.8384,\tval_loss: 1.7840\n",
      "1:\t[0s / 0s],\t\ttrain_loss: 1.6853,\tval_loss: 1.7076\n",
      "2:\t[0s / 0s],\t\ttrain_loss: 1.6266,\tval_loss: 1.6686\n",
      "3:\t[0s / 0s],\t\ttrain_loss: 1.5832,\tval_loss: 1.6405\n",
      "4:\t[0s / 0s],\t\ttrain_loss: 1.5579,\tval_loss: 1.6159\n",
      "5:\t[0s / 0s],\t\ttrain_loss: 1.5443,\tval_loss: 1.6033\n",
      "6:\t[0s / 0s],\t\ttrain_loss: 1.5211,\tval_loss: 1.5817\n",
      "7:\t[0s / 0s],\t\ttrain_loss: 1.5002,\tval_loss: 1.5677\n",
      "8:\t[0s / 0s],\t\ttrain_loss: 1.4877,\tval_loss: 1.5656\n",
      "9:\t[0s / 0s],\t\ttrain_loss: 1.4783,\tval_loss: 1.5534\n",
      "10:\t[0s / 0s],\t\ttrain_loss: 1.4651,\tval_loss: 1.5446\n",
      "11:\t[0s / 0s],\t\ttrain_loss: 1.4587,\tval_loss: 1.5458\n",
      "12:\t[0s / 0s],\t\ttrain_loss: 1.4497,\tval_loss: 1.5432\n",
      "13:\t[0s / 0s],\t\ttrain_loss: 1.4414,\tval_loss: 1.5403\n",
      "14:\t[0s / 0s],\t\ttrain_loss: 1.4322,\tval_loss: 1.5447\n",
      "15:\t[0s / 0s],\t\ttrain_loss: 1.4224,\tval_loss: 1.5402\n",
      "16:\t[0s / 0s],\t\ttrain_loss: 1.4241,\tval_loss: 1.5416\n",
      "17:\t[0s / 0s],\t\ttrain_loss: 1.4153,\tval_loss: 1.5457\n",
      "18:\t[0s / 0s],\t\ttrain_loss: 1.4230,\tval_loss: 1.5438\n",
      "19:\t[0s / 0s],\t\ttrain_loss: 1.4224,\tval_loss: 1.5497\n",
      "20:\t[0s / 0s],\t\ttrain_loss: 1.4097,\tval_loss: 1.5486\n",
      "21:\t[0s / 1s],\t\ttrain_loss: 1.4115,\tval_loss: 1.5452\n",
      "22:\t[0s / 1s],\t\ttrain_loss: 1.3993,\tval_loss: 1.5526\n",
      "23:\t[0s / 1s],\t\ttrain_loss: 1.4021,\tval_loss: 1.5611\n",
      "24:\t[0s / 1s],\t\ttrain_loss: 1.4102,\tval_loss: 1.5693\n",
      "25:\t[0s / 1s],\t\ttrain_loss: 1.3997,\tval_loss: 1.5701\n"
     ]
    }
   ],
   "source": [
    "epochs = 100\n",
    "callbacks = [tt.callbacks.EarlyStopping()]\n",
    "log = model.fit(x_train, y_train, batch_size, epochs, callbacks, val_data=val)"
   ]
  },
  {
   "cell_type": "code",
   "execution_count": 17,
   "id": "1f150f5f",
   "metadata": {},
   "outputs": [
    {
     "data": {
      "image/png": "[encoded data removed]",
      "text/plain": [
       "<Figure size 432x288 with 1 Axes>"
      ]
     },
     "metadata": {
      "needs_background": "light"
     },
     "output_type": "display_data"
    }
   ],
   "source": [
    "_ = log.plot()"
   ]
  },
  {
   "cell_type": "code",
   "execution_count": 18,
   "id": "1c0642dc",
   "metadata": {},
   "outputs": [],
   "source": [
    "# prediction\n",
    "\n",
    "surv = model.predict_surv_df(x_test)"
   ]
  },
  {
   "cell_type": "code",
   "execution_count": 19,
   "id": "b0f94e22",
   "metadata": {},
   "outputs": [
    {
     "data": {
      "image/png": "[encoded data removed]",
      "text/plain": [
       "<Figure size 432x288 with 1 Axes>"
      ]
     },
     "metadata": {
      "needs_background": "light"
     },
     "output_type": "display_data"
    }
   ],
   "source": [
    "surv.iloc[:, :5].plot(drawstyle='steps-post')\n",
    "plt.ylabel('S(t | x)')\n",
    "_ = plt.xlabel('Time')"
   ]
  },
  {
   "cell_type": "code",
   "execution_count": 20,
   "id": "6c705f65",
   "metadata": {},
   "outputs": [],
   "source": [
    "surv = model.interpolate(10).predict_surv_df(x_test)"
   ]
  },
  {
   "cell_type": "code",
   "execution_count": 21,
   "id": "d417cc28",
   "metadata": {},
   "outputs": [
    {
     "data": {
      "image/png": "[encoded data removed]",
      "text/plain": [
       "<Figure size 432x288 with 1 Axes>"
      ]
     },
     "metadata": {
      "needs_background": "light"
     },
     "output_type": "display_data"
    }
   ],
   "source": [
    "surv.iloc[:, :5].plot(drawstyle='steps-post')\n",
    "plt.ylabel('S(t | x)')\n",
    "_ = plt.xlabel('Time')"
   ]
  },
  {
   "cell_type": "code",
   "execution_count": 22,
   "id": "878d1872",
   "metadata": {},
   "outputs": [],
   "source": [
    "# evaluation\n",
    "\n",
    "ev = EvalSurv(surv, durations_test, events_test, censor_surv='km')"
   ]
  },
  {
   "cell_type": "code",
   "execution_count": 23,
   "id": "00549dc7",
   "metadata": {},
   "outputs": [
    {
     "data": {
      "text/plain": [
       "0.6645741870120583"
      ]
     },
     "execution_count": 23,
     "metadata": {},
     "output_type": "execute_result"
    }
   ],
   "source": [
    "ev.concordance_td('antolini')"
   ]
  },
  {
   "cell_type": "code",
   "execution_count": 24,
   "id": "c750bf04",
   "metadata": {},
   "outputs": [
    {
     "data": {
      "image/png": "[encoded data removed]",
      "text/plain": [
       "<Figure size 432x288 with 1 Axes>"
      ]
     },
     "metadata": {
      "needs_background": "light"
     },
     "output_type": "display_data"
    }
   ],
   "source": [
    "time_grid = np.linspace(durations_test.min(), durations_test.max(), 100)\n",
    "ev.brier_score(time_grid).plot()\n",
    "plt.ylabel('Brier score')\n",
    "_ = plt.xlabel('Time')"
   ]
  },
  {
   "cell_type": "code",
   "execution_count": 25,
   "id": "02e13d28",
   "metadata": {},
   "outputs": [
    {
     "data": {
      "image/png": "[encoded data removed]",
      "text/plain": [
       "<Figure size 432x288 with 1 Axes>"
      ]
     },
     "metadata": {
      "needs_background": "light"
     },
     "output_type": "display_data"
    }
   ],
   "source": [
    "ev.nbll(time_grid).plot()\n",
    "plt.ylabel('NBLL')\n",
    "_ = plt.xlabel('Time')"
   ]
  },
  {
   "cell_type": "code",
   "execution_count": 26,
   "id": "26a2d030",
   "metadata": {},
   "outputs": [
    {
     "data": {
      "text/plain": [
       "0.2711975597859835"
      ]
     },
     "execution_count": 26,
     "metadata": {},
     "output_type": "execute_result"
    }
   ],
   "source": [
    "ev.integrated_brier_score(time_grid) "
   ]
  },
  {
   "cell_type": "code",
   "execution_count": 27,
   "id": "dcde23e2",
   "metadata": {},
   "outputs": [
    {
     "data": {
      "text/plain": [
       "0.7508506866877753"
      ]
     },
     "execution_count": 27,
     "metadata": {},
     "output_type": "execute_result"
    }
   ],
   "source": [
    "ev.integrated_nbll(time_grid) "
   ]
  },
  {
   "cell_type": "code",
   "execution_count": null,
   "id": "1a9f8c13",
   "metadata": {},
   "outputs": [],
   "source": []
  }
 ],
 "metadata": {
  "kernelspec": {
   "display_name": "Python 3 (ipykernel)",
   "language": "python",
   "name": "python3"
  },
  "language_info": {
   "codemirror_mode": {
    "name": "ipython",
    "version": 3
   },
   "file_extension": ".py",
   "mimetype": "text/x-python",
   "name": "python",
   "nbconvert_exporter": "python",
   "pygments_lexer": "ipython3",
   "version": "3.9.7"
  }
 },
 "nbformat": 4,
 "nbformat_minor": 5
}
