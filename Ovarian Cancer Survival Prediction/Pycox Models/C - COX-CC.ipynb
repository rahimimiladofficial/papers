{
 "cells": [
  {
   "cell_type": "code",
   "execution_count": null,
   "id": "78bc6e34",
   "metadata": {},
   "outputs": [],
   "source": []
  },
  {
   "cell_type": "code",
   "execution_count": null,
   "id": "f4adb5a5",
   "metadata": {},
   "outputs": [],
   "source": []
  },
  {
   "cell_type": "code",
   "execution_count": 6,
   "id": "41d90c3a",
   "metadata": {},
   "outputs": [
    {
     "data": {
      "text/plain": [
       "0.0"
      ]
     },
     "execution_count": 6,
     "metadata": {},
     "output_type": "execute_result"
    }
   ],
   "source": [
    "data.Age.min()"
   ]
  },
  {
   "cell_type": "code",
   "execution_count": 2,
   "id": "4855d0d4",
   "metadata": {},
   "outputs": [],
   "source": [
    "import numpy as np\n",
    "import pandas as pd\n",
    "import matplotlib.pyplot as plt\n",
    "from sklearn.preprocessing import StandardScaler, LabelEncoder, OneHotEncoder\n",
    "from sklearn_pandas import DataFrameMapper\n",
    "\n",
    "import torch\n",
    "import torchtuples as tt\n",
    "\n",
    "from pycox.datasets import metabric\n",
    "from pycox.models import CoxCC\n",
    "from pycox.evaluation import EvalSurv"
   ]
  },
  {
   "cell_type": "code",
   "execution_count": 23,
   "id": "5a90f84b",
   "metadata": {},
   "outputs": [],
   "source": [
    "np.random.seed(111)\n",
    "_ = torch.manual_seed(222)"
   ]
  },
  {
   "cell_type": "code",
   "execution_count": 24,
   "id": "efe434ef",
   "metadata": {},
   "outputs": [],
   "source": [
    "# Dataset\n",
    "\n",
    "path = \"E:/Research/Ovarian Cancer/Articles/Orginal/\"\n",
    "data = pd.read_excel(path+\"data_ready.xlsx\")\n",
    "\n",
    "df_train = data\n",
    "df_test = df_train.sample(frac=0.2)\n",
    "df_train = df_train.drop(df_test.index)\n",
    "df_val = df_train.sample(frac=0.2)\n",
    "df_train = df_train.drop(df_val.index)"
   ]
  },
  {
   "cell_type": "code",
   "execution_count": 25,
   "id": "cb460dfb",
   "metadata": {},
   "outputs": [
    {
     "data": {
      "text/html": [
       "<div>\n",
       "<style scoped>\n",
       "    .dataframe tbody tr th:only-of-type {\n",
       "        vertical-align: middle;\n",
       "    }\n",
       "\n",
       "    .dataframe tbody tr th {\n",
       "        vertical-align: top;\n",
       "    }\n",
       "\n",
       "    .dataframe thead th {\n",
       "        text-align: right;\n",
       "    }\n",
       "</style>\n",
       "<table border=\"1\" class=\"dataframe\">\n",
       "  <thead>\n",
       "    <tr style=\"text-align: right;\">\n",
       "      <th></th>\n",
       "      <th>Age</th>\n",
       "      <th>Grading</th>\n",
       "      <th>Histology</th>\n",
       "      <th>Type</th>\n",
       "      <th>Status</th>\n",
       "      <th>MonthSurvive</th>\n",
       "      <th>YearSurvive</th>\n",
       "    </tr>\n",
       "  </thead>\n",
       "  <tbody>\n",
       "    <tr>\n",
       "      <th>0</th>\n",
       "      <td>33.0</td>\n",
       "      <td>2.0</td>\n",
       "      <td>Undifferentiated</td>\n",
       "      <td>type_2</td>\n",
       "      <td>1.0</td>\n",
       "      <td>0</td>\n",
       "      <td>1</td>\n",
       "    </tr>\n",
       "    <tr>\n",
       "      <th>1</th>\n",
       "      <td>17.0</td>\n",
       "      <td>9.0</td>\n",
       "      <td>Undifferentiated</td>\n",
       "      <td>type_2</td>\n",
       "      <td>1.0</td>\n",
       "      <td>1</td>\n",
       "      <td>1</td>\n",
       "    </tr>\n",
       "    <tr>\n",
       "      <th>2</th>\n",
       "      <td>55.0</td>\n",
       "      <td>9.0</td>\n",
       "      <td>Serous carcinoma</td>\n",
       "      <td>type_2</td>\n",
       "      <td>1.0</td>\n",
       "      <td>0</td>\n",
       "      <td>1</td>\n",
       "    </tr>\n",
       "    <tr>\n",
       "      <th>5</th>\n",
       "      <td>72.0</td>\n",
       "      <td>9.0</td>\n",
       "      <td>Serous carcinoma</td>\n",
       "      <td>type_2</td>\n",
       "      <td>1.0</td>\n",
       "      <td>0</td>\n",
       "      <td>1</td>\n",
       "    </tr>\n",
       "    <tr>\n",
       "      <th>6</th>\n",
       "      <td>84.0</td>\n",
       "      <td>9.0</td>\n",
       "      <td>Serous carcinoma</td>\n",
       "      <td>type_2</td>\n",
       "      <td>1.0</td>\n",
       "      <td>3</td>\n",
       "      <td>1</td>\n",
       "    </tr>\n",
       "  </tbody>\n",
       "</table>\n",
       "</div>"
      ],
      "text/plain": [
       "    Age  Grading         Histology    Type  Status  MonthSurvive  YearSurvive\n",
       "0  33.0      2.0  Undifferentiated  type_2     1.0             0            1\n",
       "1  17.0      9.0  Undifferentiated  type_2     1.0             1            1\n",
       "2  55.0      9.0  Serous carcinoma  type_2     1.0             0            1\n",
       "5  72.0      9.0  Serous carcinoma  type_2     1.0             0            1\n",
       "6  84.0      9.0  Serous carcinoma  type_2     1.0             3            1"
      ]
     },
     "execution_count": 25,
     "metadata": {},
     "output_type": "execute_result"
    }
   ],
   "source": [
    "df_train.head()"
   ]
  },
  {
   "cell_type": "code",
   "execution_count": 26,
   "id": "1f2850fd",
   "metadata": {},
   "outputs": [],
   "source": [
    "# Feature transformers\n",
    "\n",
    "cols_standardize = ['Age']\n",
    "cols_onehotencoded = ['Grading', 'Histology', 'Type']\n",
    "\n",
    "standardize = [([col], StandardScaler()) for col in cols_standardize]\n",
    "onehot_encoded = [([col], OneHotEncoder(handle_unknown='ignore')) for col in cols_onehotencoded]\n",
    "\n",
    "#encoded = [([col], LabelEncoder()) for col in cols_labelencoded]\n",
    "#leave = [(col, None) for col in cols_leave]\n",
    "\n",
    "x_mapper = DataFrameMapper(standardize + onehot_encoded)"
   ]
  },
  {
   "cell_type": "code",
   "execution_count": 27,
   "id": "0f7a3223",
   "metadata": {},
   "outputs": [],
   "source": [
    "x_train = x_mapper.fit_transform(df_train).astype('float32')\n",
    "x_val = x_mapper.transform(df_val).astype('float32')\n",
    "x_test = x_mapper.transform(df_test).astype('float32')"
   ]
  },
  {
   "cell_type": "code",
   "execution_count": null,
   "id": "f0122c5d",
   "metadata": {},
   "outputs": [],
   "source": []
  },
  {
   "cell_type": "code",
   "execution_count": 30,
   "id": "906981c1",
   "metadata": {},
   "outputs": [],
   "source": [
    "get_target = lambda df: (df['MonthSurvive'].values, df['Status'].values)\n",
    "y_train = get_target(df_train)\n",
    "y_val = get_target(df_val)\n",
    "durations_test, events_test = get_target(df_test)\n",
    "val = tt.tuplefy(x_val, y_val)"
   ]
  },
  {
   "cell_type": "code",
   "execution_count": 31,
   "id": "7a4b6bee",
   "metadata": {},
   "outputs": [
    {
     "data": {
      "text/plain": [
       "((428, 27), ((428,), (428,)))"
      ]
     },
     "execution_count": 31,
     "metadata": {},
     "output_type": "execute_result"
    }
   ],
   "source": [
    "val.shapes()"
   ]
  },
  {
   "cell_type": "code",
   "execution_count": 32,
   "id": "9ea711e7",
   "metadata": {},
   "outputs": [
    {
     "data": {
      "text/plain": [
       "((856, 27), ((856,), (856,)))"
      ]
     },
     "execution_count": 32,
     "metadata": {},
     "output_type": "execute_result"
    }
   ],
   "source": [
    "val.repeat(2).cat().shapes()"
   ]
  },
  {
   "cell_type": "code",
   "execution_count": 33,
   "id": "1a24252e",
   "metadata": {},
   "outputs": [],
   "source": [
    "# Neural Net\n",
    "\n",
    "in_features = x_train.shape[1]\n",
    "num_nodes = [32, 32]\n",
    "out_features = 1\n",
    "batch_norm = True\n",
    "dropout = 0.1\n",
    "output_bias = False\n",
    "\n",
    "net = tt.practical.MLPVanilla(in_features, num_nodes, out_features, batch_norm,\n",
    "                              dropout, output_bias=output_bias)"
   ]
  },
  {
   "cell_type": "code",
   "execution_count": 34,
   "id": "b8eb20d2",
   "metadata": {},
   "outputs": [],
   "source": [
    "# Training the model\n",
    "\n",
    "model = CoxCC(net, tt.optim.Adam)"
   ]
  },
  {
   "cell_type": "code",
   "execution_count": 35,
   "id": "fc2f4a83",
   "metadata": {},
   "outputs": [
    {
     "data": {
      "image/png": "[encoded data removed]",
      "text/plain": [
       "<Figure size 432x288 with 1 Axes>"
      ]
     },
     "metadata": {
      "needs_background": "light"
     },
     "output_type": "display_data"
    }
   ],
   "source": [
    "batch_size = 256\n",
    "lrfinder = model.lr_finder(x_train, y_train, batch_size, tolerance=2)\n",
    "_ = lrfinder.plot()"
   ]
  },
  {
   "cell_type": "code",
   "execution_count": 36,
   "id": "5119fc22",
   "metadata": {},
   "outputs": [
    {
     "data": {
      "text/plain": [
       "0.050941380148164093"
      ]
     },
     "execution_count": 36,
     "metadata": {},
     "output_type": "execute_result"
    }
   ],
   "source": [
    "lrfinder.get_best_lr()"
   ]
  },
  {
   "cell_type": "code",
   "execution_count": 37,
   "id": "0324da66",
   "metadata": {},
   "outputs": [],
   "source": [
    "model.optimizer.set_lr(0.01)"
   ]
  },
  {
   "cell_type": "code",
   "execution_count": 38,
   "id": "03213a1e",
   "metadata": {},
   "outputs": [],
   "source": [
    "epochs = 512\n",
    "callbacks = [tt.callbacks.EarlyStopping()]\n",
    "verbose = True"
   ]
  },
  {
   "cell_type": "code",
   "execution_count": 39,
   "id": "33a3ffe2",
   "metadata": {},
   "outputs": [
    {
     "name": "stdout",
     "output_type": "stream",
     "text": [
      "0:\t[0s / 0s],\t\ttrain_loss: 0.6504,\tval_loss: 0.6386\n",
      "1:\t[0s / 0s],\t\ttrain_loss: 0.6278,\tval_loss: 0.6336\n",
      "2:\t[0s / 0s],\t\ttrain_loss: 0.6200,\tval_loss: 0.6210\n",
      "3:\t[0s / 0s],\t\ttrain_loss: 0.6017,\tval_loss: 0.6086\n",
      "4:\t[0s / 0s],\t\ttrain_loss: 0.6035,\tval_loss: 0.6002\n",
      "5:\t[0s / 0s],\t\ttrain_loss: 0.6029,\tval_loss: 0.5928\n",
      "6:\t[0s / 0s],\t\ttrain_loss: 0.6137,\tval_loss: 0.6195\n",
      "7:\t[0s / 0s],\t\ttrain_loss: 0.5857,\tval_loss: 0.6030\n",
      "8:\t[0s / 0s],\t\ttrain_loss: 0.5917,\tval_loss: 0.5996\n",
      "9:\t[0s / 0s],\t\ttrain_loss: 0.5910,\tval_loss: 0.5982\n",
      "10:\t[0s / 0s],\t\ttrain_loss: 0.5956,\tval_loss: 0.5976\n",
      "11:\t[0s / 0s],\t\ttrain_loss: 0.5923,\tval_loss: 0.5950\n",
      "12:\t[0s / 0s],\t\ttrain_loss: 0.6103,\tval_loss: 0.5907\n",
      "13:\t[0s / 0s],\t\ttrain_loss: 0.5936,\tval_loss: 0.6002\n",
      "14:\t[0s / 0s],\t\ttrain_loss: 0.5966,\tval_loss: 0.6140\n",
      "15:\t[0s / 0s],\t\ttrain_loss: 0.5755,\tval_loss: 0.5991\n",
      "16:\t[0s / 0s],\t\ttrain_loss: 0.6080,\tval_loss: 0.5968\n",
      "17:\t[0s / 0s],\t\ttrain_loss: 0.6008,\tval_loss: 0.5974\n",
      "18:\t[0s / 0s],\t\ttrain_loss: 0.5850,\tval_loss: 0.6009\n",
      "19:\t[0s / 0s],\t\ttrain_loss: 0.5811,\tval_loss: 0.6021\n",
      "20:\t[0s / 0s],\t\ttrain_loss: 0.6078,\tval_loss: 0.5986\n",
      "21:\t[0s / 0s],\t\ttrain_loss: 0.6130,\tval_loss: 0.5936\n",
      "22:\t[0s / 0s],\t\ttrain_loss: 0.5731,\tval_loss: 0.6014\n",
      "Wall time: 929 ms\n"
     ]
    }
   ],
   "source": [
    "%%time\n",
    "log = model.fit(x_train, y_train, batch_size, epochs, callbacks, verbose,\n",
    "                val_data=val.repeat(10).cat())"
   ]
  },
  {
   "cell_type": "code",
   "execution_count": 40,
   "id": "46cc7f65",
   "metadata": {},
   "outputs": [
    {
     "data": {
      "image/png": "[encoded data removed]",
      "text/plain": [
       "<Figure size 432x288 with 1 Axes>"
      ]
     },
     "metadata": {
      "needs_background": "light"
     },
     "output_type": "display_data"
    }
   ],
   "source": [
    "_ = log.plot()"
   ]
  },
  {
   "cell_type": "code",
   "execution_count": 41,
   "id": "f428a777",
   "metadata": {},
   "outputs": [
    {
     "data": {
      "text/plain": [
       "-5.518215179443359"
      ]
     },
     "execution_count": 41,
     "metadata": {},
     "output_type": "execute_result"
    }
   ],
   "source": [
    "model.partial_log_likelihood(*val).mean()"
   ]
  },
  {
   "cell_type": "code",
   "execution_count": 42,
   "id": "e0baf47c",
   "metadata": {},
   "outputs": [],
   "source": [
    "# prediction\n",
    "\n",
    "_ = model.compute_baseline_hazards()"
   ]
  },
  {
   "cell_type": "code",
   "execution_count": 43,
   "id": "b6614a56",
   "metadata": {},
   "outputs": [],
   "source": [
    "surv = model.predict_surv_df(x_test)"
   ]
  },
  {
   "cell_type": "code",
   "execution_count": 44,
   "id": "c2c8234d",
   "metadata": {},
   "outputs": [
    {
     "data": {
      "image/png": "[encoded data removed]",
      "text/plain": [
       "<Figure size 432x288 with 1 Axes>"
      ]
     },
     "metadata": {
      "needs_background": "light"
     },
     "output_type": "display_data"
    }
   ],
   "source": [
    "surv.iloc[:, :5].plot()\n",
    "plt.ylabel('S(t | x)')\n",
    "_ = plt.xlabel('Time')"
   ]
  },
  {
   "cell_type": "code",
   "execution_count": 45,
   "id": "57cf55a3",
   "metadata": {},
   "outputs": [],
   "source": [
    "# evaluation\n",
    "\n",
    "ev = EvalSurv(surv, durations_test, events_test, censor_surv='km')"
   ]
  },
  {
   "cell_type": "code",
   "execution_count": 46,
   "id": "1b61628e",
   "metadata": {},
   "outputs": [
    {
     "data": {
      "text/plain": [
       "0.6601156718513111"
      ]
     },
     "execution_count": 46,
     "metadata": {},
     "output_type": "execute_result"
    }
   ],
   "source": [
    "ev.concordance_td()"
   ]
  },
  {
   "cell_type": "code",
   "execution_count": 47,
   "id": "705cfb2d",
   "metadata": {},
   "outputs": [
    {
     "data": {
      "image/png": "[encoded data removed]",
      "text/plain": [
       "<Figure size 432x288 with 1 Axes>"
      ]
     },
     "metadata": {
      "needs_background": "light"
     },
     "output_type": "display_data"
    }
   ],
   "source": [
    "time_grid = np.linspace(durations_test.min(), durations_test.max(), 100)\n",
    "_ = ev.brier_score(time_grid).plot()"
   ]
  },
  {
   "cell_type": "code",
   "execution_count": 48,
   "id": "9c02d900",
   "metadata": {},
   "outputs": [
    {
     "data": {
      "text/plain": [
       "0.2852884500738522"
      ]
     },
     "execution_count": 48,
     "metadata": {},
     "output_type": "execute_result"
    }
   ],
   "source": [
    "ev.integrated_brier_score(time_grid)"
   ]
  },
  {
   "cell_type": "code",
   "execution_count": 49,
   "id": "5cbd1e03",
   "metadata": {},
   "outputs": [
    {
     "data": {
      "text/plain": [
       "0.8028376450279665"
      ]
     },
     "execution_count": 49,
     "metadata": {},
     "output_type": "execute_result"
    }
   ],
   "source": [
    "ev.integrated_nbll(time_grid)"
   ]
  },
  {
   "cell_type": "code",
   "execution_count": null,
   "id": "79412f09",
   "metadata": {},
   "outputs": [],
   "source": []
  }
 ],
 "metadata": {
  "kernelspec": {
   "display_name": "Python 3 (ipykernel)",
   "language": "python",
   "name": "python3"
  },
  "language_info": {
   "codemirror_mode": {
    "name": "ipython",
    "version": 3
   },
   "file_extension": ".py",
   "mimetype": "text/x-python",
   "name": "python",
   "nbconvert_exporter": "python",
   "pygments_lexer": "ipython3",
   "version": "3.9.7"
  }
 },
 "nbformat": 4,
 "nbformat_minor": 5
}
