{
 "cells": [
  {
   "cell_type": "code",
   "execution_count": 1,
   "id": "fd59411d",
   "metadata": {},
   "outputs": [],
   "source": [
    "import numpy as np\n",
    "import pandas as pd\n",
    "import matplotlib.pyplot as plt\n",
    "\n",
    "# For preprocessing\n",
    "from sklearn.preprocessing import StandardScaler, LabelEncoder, OneHotEncoder\n",
    "from sklearn_pandas import DataFrameMapper \n",
    "\n",
    "import torch # For building the networks \n",
    "import torchtuples as tt # Some useful functions\n",
    "\n",
    "from pycox.datasets import metabric\n",
    "from pycox.models import PCHazard\n",
    "from pycox.evaluation import EvalSurv"
   ]
  },
  {
   "cell_type": "code",
   "execution_count": 2,
   "id": "8bdd2ef0",
   "metadata": {},
   "outputs": [],
   "source": [
    "np.random.seed(1234)\n",
    "_ = torch.manual_seed(123)"
   ]
  },
  {
   "cell_type": "code",
   "execution_count": 3,
   "id": "b27296a7",
   "metadata": {},
   "outputs": [],
   "source": [
    "# Dataset\n",
    "\n",
    "path = \"E:/Research/Ovarian Cancer/Articles/Orginal/\"\n",
    "data = pd.read_excel(path+\"data_ready.xlsx\")\n",
    "\n",
    "df_train = data\n",
    "df_test = df_train.sample(frac=0.2)\n",
    "df_train = df_train.drop(df_test.index)\n",
    "df_val = df_train.sample(frac=0.2)\n",
    "df_train = df_train.drop(df_val.index)"
   ]
  },
  {
   "cell_type": "code",
   "execution_count": 4,
   "id": "db016b69",
   "metadata": {},
   "outputs": [
    {
     "data": {
      "text/html": [
       "<div>\n",
       "<style scoped>\n",
       "    .dataframe tbody tr th:only-of-type {\n",
       "        vertical-align: middle;\n",
       "    }\n",
       "\n",
       "    .dataframe tbody tr th {\n",
       "        vertical-align: top;\n",
       "    }\n",
       "\n",
       "    .dataframe thead th {\n",
       "        text-align: right;\n",
       "    }\n",
       "</style>\n",
       "<table border=\"1\" class=\"dataframe\">\n",
       "  <thead>\n",
       "    <tr style=\"text-align: right;\">\n",
       "      <th></th>\n",
       "      <th>Age</th>\n",
       "      <th>Grading</th>\n",
       "      <th>Histology</th>\n",
       "      <th>Type</th>\n",
       "      <th>Status</th>\n",
       "      <th>MonthSurvive</th>\n",
       "      <th>YearSurvive</th>\n",
       "    </tr>\n",
       "  </thead>\n",
       "  <tbody>\n",
       "    <tr>\n",
       "      <th>1</th>\n",
       "      <td>17.0</td>\n",
       "      <td>9.0</td>\n",
       "      <td>Undifferentiated</td>\n",
       "      <td>type_2</td>\n",
       "      <td>1.0</td>\n",
       "      <td>1</td>\n",
       "      <td>1</td>\n",
       "    </tr>\n",
       "    <tr>\n",
       "      <th>2</th>\n",
       "      <td>55.0</td>\n",
       "      <td>9.0</td>\n",
       "      <td>Serous carcinoma</td>\n",
       "      <td>type_2</td>\n",
       "      <td>1.0</td>\n",
       "      <td>0</td>\n",
       "      <td>1</td>\n",
       "    </tr>\n",
       "    <tr>\n",
       "      <th>3</th>\n",
       "      <td>68.0</td>\n",
       "      <td>9.0</td>\n",
       "      <td>Non-specific</td>\n",
       "      <td>Non-specific</td>\n",
       "      <td>1.0</td>\n",
       "      <td>0</td>\n",
       "      <td>1</td>\n",
       "    </tr>\n",
       "    <tr>\n",
       "      <th>4</th>\n",
       "      <td>66.0</td>\n",
       "      <td>9.0</td>\n",
       "      <td>Clear cell carcinoma</td>\n",
       "      <td>type_1</td>\n",
       "      <td>1.0</td>\n",
       "      <td>0</td>\n",
       "      <td>1</td>\n",
       "    </tr>\n",
       "    <tr>\n",
       "      <th>5</th>\n",
       "      <td>72.0</td>\n",
       "      <td>9.0</td>\n",
       "      <td>Serous carcinoma</td>\n",
       "      <td>type_2</td>\n",
       "      <td>1.0</td>\n",
       "      <td>0</td>\n",
       "      <td>1</td>\n",
       "    </tr>\n",
       "  </tbody>\n",
       "</table>\n",
       "</div>"
      ],
      "text/plain": [
       "    Age  Grading             Histology          Type  Status  MonthSurvive  \\\n",
       "1  17.0      9.0      Undifferentiated        type_2     1.0             1   \n",
       "2  55.0      9.0      Serous carcinoma        type_2     1.0             0   \n",
       "3  68.0      9.0          Non-specific  Non-specific     1.0             0   \n",
       "4  66.0      9.0  Clear cell carcinoma        type_1     1.0             0   \n",
       "5  72.0      9.0      Serous carcinoma        type_2     1.0             0   \n",
       "\n",
       "   YearSurvive  \n",
       "1            1  \n",
       "2            1  \n",
       "3            1  \n",
       "4            1  \n",
       "5            1  "
      ]
     },
     "execution_count": 4,
     "metadata": {},
     "output_type": "execute_result"
    }
   ],
   "source": [
    "df_train.head()"
   ]
  },
  {
   "cell_type": "code",
   "execution_count": 5,
   "id": "e4623da9",
   "metadata": {},
   "outputs": [],
   "source": [
    "# Feature transformers\n",
    "\n",
    "cols_standardize = ['Age']\n",
    "cols_onehotencoded = ['Grading', 'Histology', 'Type']\n",
    "\n",
    "standardize = [([col], StandardScaler()) for col in cols_standardize]\n",
    "onehot_encoded = [([col], OneHotEncoder(handle_unknown='ignore')) for col in cols_onehotencoded]\n",
    "\n",
    "#encoded = [([col], LabelEncoder()) for col in cols_labelencoded]\n",
    "#leave = [(col, None) for col in cols_leave]\n",
    "\n",
    "x_mapper = DataFrameMapper(standardize + onehot_encoded)"
   ]
  },
  {
   "cell_type": "code",
   "execution_count": 6,
   "id": "662f213a",
   "metadata": {},
   "outputs": [],
   "source": [
    "x_train = x_mapper.fit_transform(df_train).astype('float32')\n",
    "x_val = x_mapper.transform(df_val).astype('float32')\n",
    "x_test = x_mapper.transform(df_test).astype('float32')"
   ]
  },
  {
   "cell_type": "code",
   "execution_count": 7,
   "id": "6f49df8d",
   "metadata": {},
   "outputs": [
    {
     "name": "stderr",
     "output_type": "stream",
     "text": [
      "C:\\ProgramData\\Anaconda3\\lib\\site-packages\\pycox\\preprocessing\\label_transforms.py:219: UserWarning: Got event/censoring at start time. Should be removed! It is set s.t. it has no contribution to loss.\n",
      "  warnings.warn(\"\"\"Got event/censoring at start time. Should be removed! It is set s.t. it has no contribution to loss.\"\"\")\n"
     ]
    }
   ],
   "source": [
    "# label transforms\n",
    "\n",
    "num_durations = 10\n",
    "labtrans = PCHazard.label_transform(num_durations)\n",
    "get_target = lambda df: (df['MonthSurvive'].values, df['Status'].values)\n",
    "y_train = labtrans.fit_transform(*get_target(df_train))\n",
    "y_val = labtrans.transform(*get_target(df_val))\n",
    "\n",
    "train = (x_train, y_train)\n",
    "val = (x_val, y_val)\n",
    "\n",
    "# We don't need to transform the test labels\n",
    "durations_test, events_test = get_target(df_test)"
   ]
  },
  {
   "cell_type": "code",
   "execution_count": 8,
   "id": "0ea2dfc6",
   "metadata": {},
   "outputs": [
    {
     "data": {
      "text/plain": [
       "pycox.preprocessing.label_transforms.LabTransPCHazard"
      ]
     },
     "execution_count": 8,
     "metadata": {},
     "output_type": "execute_result"
    }
   ],
   "source": [
    "type(labtrans)"
   ]
  },
  {
   "cell_type": "code",
   "execution_count": null,
   "id": "ef3ae643",
   "metadata": {},
   "outputs": [],
   "source": []
  },
  {
   "cell_type": "code",
   "execution_count": 10,
   "id": "7beb0ac5",
   "metadata": {},
   "outputs": [],
   "source": [
    "# neural Net\n",
    "\n",
    "in_features = x_train.shape[1]\n",
    "num_nodes = [32, 32]\n",
    "out_features = labtrans.out_features\n",
    "batch_norm = True\n",
    "dropout = 0.1\n",
    "\n",
    "net = tt.practical.MLPVanilla(in_features, num_nodes, out_features, batch_norm, dropout)"
   ]
  },
  {
   "cell_type": "code",
   "execution_count": 11,
   "id": "2204d314",
   "metadata": {},
   "outputs": [],
   "source": [
    "model = PCHazard(net, tt.optim.Adam, duration_index=labtrans.cuts)"
   ]
  },
  {
   "cell_type": "code",
   "execution_count": 12,
   "id": "64b0b8a2",
   "metadata": {},
   "outputs": [
    {
     "data": {
      "image/png": "[encoded data removed]",
      "text/plain": [
       "<Figure size 432x288 with 1 Axes>"
      ]
     },
     "metadata": {
      "needs_background": "light"
     },
     "output_type": "display_data"
    }
   ],
   "source": [
    "batch_size = 256\n",
    "lr_finder = model.lr_finder(x_train, y_train, batch_size, tolerance=8)\n",
    "_ = lr_finder.plot()\n"
   ]
  },
  {
   "cell_type": "code",
   "execution_count": 13,
   "id": "cd96eb41",
   "metadata": {},
   "outputs": [
    {
     "data": {
      "text/plain": [
       "0.12915496650148922"
      ]
     },
     "execution_count": 13,
     "metadata": {},
     "output_type": "execute_result"
    }
   ],
   "source": [
    "lr_finder.get_best_lr()"
   ]
  },
  {
   "cell_type": "code",
   "execution_count": 14,
   "id": "30871c74",
   "metadata": {},
   "outputs": [],
   "source": [
    "model.optimizer.set_lr(0.01)"
   ]
  },
  {
   "cell_type": "code",
   "execution_count": 15,
   "id": "33012d75",
   "metadata": {},
   "outputs": [
    {
     "name": "stdout",
     "output_type": "stream",
     "text": [
      "0:\t[0s / 0s],\t\ttrain_loss: 3.5203,\tval_loss: 3.2483\n",
      "1:\t[0s / 0s],\t\ttrain_loss: 2.9767,\tval_loss: 2.7528\n",
      "2:\t[0s / 0s],\t\ttrain_loss: 2.4947,\tval_loss: 2.0948\n",
      "3:\t[0s / 0s],\t\ttrain_loss: 1.9627,\tval_loss: 1.7150\n",
      "4:\t[0s / 0s],\t\ttrain_loss: 1.6256,\tval_loss: 1.6092\n",
      "5:\t[0s / 0s],\t\ttrain_loss: 1.5432,\tval_loss: 1.6430\n",
      "6:\t[0s / 0s],\t\ttrain_loss: 1.5412,\tval_loss: 1.6179\n",
      "7:\t[0s / 0s],\t\ttrain_loss: 1.5075,\tval_loss: 1.5934\n",
      "8:\t[0s / 0s],\t\ttrain_loss: 1.4951,\tval_loss: 1.5769\n",
      "9:\t[0s / 0s],\t\ttrain_loss: 1.5018,\tval_loss: 1.5762\n",
      "10:\t[0s / 0s],\t\ttrain_loss: 1.4867,\tval_loss: 1.5789\n",
      "11:\t[0s / 0s],\t\ttrain_loss: 1.4874,\tval_loss: 1.5776\n",
      "12:\t[0s / 0s],\t\ttrain_loss: 1.4706,\tval_loss: 1.5770\n",
      "13:\t[0s / 0s],\t\ttrain_loss: 1.4680,\tval_loss: 1.5765\n",
      "14:\t[0s / 0s],\t\ttrain_loss: 1.4724,\tval_loss: 1.5821\n",
      "15:\t[0s / 0s],\t\ttrain_loss: 1.4607,\tval_loss: 1.5903\n",
      "16:\t[0s / 0s],\t\ttrain_loss: 1.4555,\tval_loss: 1.5935\n",
      "17:\t[0s / 0s],\t\ttrain_loss: 1.4590,\tval_loss: 1.5934\n",
      "18:\t[0s / 0s],\t\ttrain_loss: 1.4502,\tval_loss: 1.5925\n",
      "19:\t[0s / 0s],\t\ttrain_loss: 1.4570,\tval_loss: 1.5991\n"
     ]
    }
   ],
   "source": [
    "epochs = 100\n",
    "callbacks = [tt.callbacks.EarlyStopping()]\n",
    "log = model.fit(x_train, y_train, batch_size, epochs, callbacks, val_data=val)"
   ]
  },
  {
   "cell_type": "code",
   "execution_count": 16,
   "id": "3d9b4b3e",
   "metadata": {},
   "outputs": [
    {
     "data": {
      "image/png": "[encoded data removed]",
      "text/plain": [
       "<Figure size 432x288 with 1 Axes>"
      ]
     },
     "metadata": {
      "needs_background": "light"
     },
     "output_type": "display_data"
    }
   ],
   "source": [
    "_ = log.plot()"
   ]
  },
  {
   "cell_type": "code",
   "execution_count": 17,
   "id": "e5476310",
   "metadata": {},
   "outputs": [],
   "source": [
    "# prediction\n",
    "\n",
    "surv = model.predict_surv_df(x_test)"
   ]
  },
  {
   "cell_type": "code",
   "execution_count": 18,
   "id": "3561e781",
   "metadata": {},
   "outputs": [
    {
     "data": {
      "image/png": "[encoded data removed]",
      "text/plain": [
       "<Figure size 432x288 with 1 Axes>"
      ]
     },
     "metadata": {
      "needs_background": "light"
     },
     "output_type": "display_data"
    }
   ],
   "source": [
    "surv.iloc[:, :5].plot(drawstyle='steps-post')\n",
    "plt.ylabel('S(t | x)')\n",
    "_ = plt.xlabel('Time')"
   ]
  },
  {
   "cell_type": "code",
   "execution_count": 19,
   "id": "1e5f8e18",
   "metadata": {},
   "outputs": [],
   "source": [
    "model.sub = 10"
   ]
  },
  {
   "cell_type": "code",
   "execution_count": 20,
   "id": "4fee65dd",
   "metadata": {},
   "outputs": [
    {
     "data": {
      "image/png": "[encoded data removed]",
      "text/plain": [
       "<Figure size 432x288 with 1 Axes>"
      ]
     },
     "metadata": {
      "needs_background": "light"
     },
     "output_type": "display_data"
    }
   ],
   "source": [
    "surv = model.predict_surv_df(x_test)\n",
    "surv.iloc[:, :5].plot(drawstyle='steps-post')\n",
    "plt.ylabel('S(t | x)')\n",
    "_ = plt.xlabel('Time')"
   ]
  },
  {
   "cell_type": "code",
   "execution_count": 21,
   "id": "4429ebe0",
   "metadata": {},
   "outputs": [],
   "source": [
    "# evaluation\n",
    "\n",
    "ev = EvalSurv(surv, durations_test, events_test, censor_surv='km')"
   ]
  },
  {
   "cell_type": "code",
   "execution_count": 22,
   "id": "2a549300",
   "metadata": {},
   "outputs": [
    {
     "data": {
      "text/plain": [
       "0.542753992131451"
      ]
     },
     "execution_count": 22,
     "metadata": {},
     "output_type": "execute_result"
    }
   ],
   "source": [
    "ev.concordance_td('antolini')"
   ]
  },
  {
   "cell_type": "code",
   "execution_count": 23,
   "id": "d2750f8b",
   "metadata": {},
   "outputs": [
    {
     "data": {
      "image/png": "[encoded data removed]",
      "text/plain": [
       "<Figure size 432x288 with 1 Axes>"
      ]
     },
     "metadata": {
      "needs_background": "light"
     },
     "output_type": "display_data"
    }
   ],
   "source": [
    "time_grid = np.linspace(durations_test.min(), durations_test.max(), 100)\n",
    "ev.brier_score(time_grid).plot()\n",
    "plt.ylabel('Brier score')\n",
    "_ = plt.xlabel('Time')"
   ]
  },
  {
   "cell_type": "code",
   "execution_count": 24,
   "id": "b51c85fa",
   "metadata": {},
   "outputs": [
    {
     "data": {
      "image/png": "[encoded data removed]",
      "text/plain": [
       "<Figure size 432x288 with 1 Axes>"
      ]
     },
     "metadata": {
      "needs_background": "light"
     },
     "output_type": "display_data"
    }
   ],
   "source": [
    "ev.nbll(time_grid).plot()\n",
    "plt.ylabel('NBLL')\n",
    "_ = plt.xlabel('Time')"
   ]
  },
  {
   "cell_type": "code",
   "execution_count": 25,
   "id": "7a55fe6c",
   "metadata": {},
   "outputs": [
    {
     "data": {
      "text/plain": [
       "0.19456460722181734"
      ]
     },
     "execution_count": 25,
     "metadata": {},
     "output_type": "execute_result"
    }
   ],
   "source": [
    "ev.integrated_brier_score(time_grid) "
   ]
  },
  {
   "cell_type": "code",
   "execution_count": 26,
   "id": "c5380592",
   "metadata": {},
   "outputs": [
    {
     "data": {
      "text/plain": [
       "0.5751569694781372"
      ]
     },
     "execution_count": 26,
     "metadata": {},
     "output_type": "execute_result"
    }
   ],
   "source": [
    "ev.integrated_nbll(time_grid) "
   ]
  },
  {
   "cell_type": "code",
   "execution_count": null,
   "id": "093fd59c",
   "metadata": {},
   "outputs": [],
   "source": []
  }
 ],
 "metadata": {
  "kernelspec": {
   "display_name": "Python 3 (ipykernel)",
   "language": "python",
   "name": "python3"
  },
  "language_info": {
   "codemirror_mode": {
    "name": "ipython",
    "version": 3
   },
   "file_extension": ".py",
   "mimetype": "text/x-python",
   "name": "python",
   "nbconvert_exporter": "python",
   "pygments_lexer": "ipython3",
   "version": "3.9.7"
  }
 },
 "nbformat": 4,
 "nbformat_minor": 5
}
